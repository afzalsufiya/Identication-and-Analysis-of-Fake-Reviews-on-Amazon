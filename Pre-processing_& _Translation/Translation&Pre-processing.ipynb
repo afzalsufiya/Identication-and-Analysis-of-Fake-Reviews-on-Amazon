{
 "cells": [
  {
   "cell_type": "code",
   "execution_count": 1,
   "metadata": {},
   "outputs": [],
   "source": [
    "import sqlite3\n",
    "import emoji\n",
    "import re\n",
    "from cleantext import clean"
   ]
  },
  {
   "cell_type": "code",
   "execution_count": 2,
   "metadata": {},
   "outputs": [],
   "source": [
    "conn = sqlite3.connect(\"C:/Users/Afzal Sufiya/Documents/MasterThesis/AmazonReviews1.db\")\n",
    "cursor = conn.cursor()\n"
   ]
  },
  {
   "cell_type": "code",
   "execution_count": 3,
   "metadata": {},
   "outputs": [],
   "source": [
    "# Fetch all rows from the table\n",
    "cursor.execute(\"SELECT id, description FROM reviews\")\n",
    "rows = cursor.fetchall()\n"
   ]
  },
  {
   "cell_type": "markdown",
   "metadata": {},
   "source": [
    "## Removing emojis from txt"
   ]
  },
  {
   "cell_type": "code",
   "execution_count": 69,
   "metadata": {},
   "outputs": [],
   "source": [
    "# Function to remove emojis\n",
    "def remove_emojis(text):\n",
    "    return emoji.replace_emoji(text, replace='')\n"
   ]
  },
  {
   "cell_type": "code",
   "execution_count": null,
   "metadata": {},
   "outputs": [],
   "source": [
    "for row in rows:\n",
    "    id = row[0]\n",
    "    description = row[1]\n",
    "    new_desc = remove_emojis(description)\n",
    "    cursor.execute(\"UPDATE reviews SET description = ? WHERE id = ?\", (new_desc, id))\n",
    "    "
   ]
  },
  {
   "cell_type": "code",
   "execution_count": null,
   "metadata": {},
   "outputs": [],
   "source": [
    "conn.commit()\n"
   ]
  },
  {
   "cell_type": "markdown",
   "metadata": {},
   "source": [
    "## Removing other noisy data"
   ]
  },
  {
   "cell_type": "code",
   "execution_count": 74,
   "metadata": {},
   "outputs": [],
   "source": [
    "def cleaning_noise(description):\n",
    "    # Clean the text while keeping basic punctuation, @, and $\n",
    "    clean_noise = clean(description,\n",
    "                                lower=False,            # Keep the original case\n",
    "                                no_urls=True,           # Remove URLs\n",
    "                                no_numbers=False,       # Keep numbers\n",
    "                                no_digits=False,        # Keep digits\n",
    "                                no_punct=False,         # Keep punctuation\n",
    "                                no_currency_symbols=False, #keep currecny symbols\n",
    "                                replace_with_punct=\"\",  # Do not replace punctuation\n",
    "                                replace_with_url=\"\",\n",
    "                                replace_with_number=\"\",\n",
    "                                replace_with_digit=\"\",\n",
    "                                replace_with_currency_symbol=\"\",\n",
    "\n",
    "                                additional_allowed_characters=\"@$\")\n",
    "    return clean_noise\n"
   ]
  },
  {
   "cell_type": "code",
   "execution_count": 75,
   "metadata": {},
   "outputs": [
    {
     "ename": "TypeError",
     "evalue": "clean() got an unexpected keyword argument 'no_numbers'",
     "output_type": "error",
     "traceback": [
      "\u001b[1;31m---------------------------------------------------------------------------\u001b[0m",
      "\u001b[1;31mTypeError\u001b[0m                                 Traceback (most recent call last)",
      "Cell \u001b[1;32mIn[75], line 5\u001b[0m\n\u001b[0;32m      3\u001b[0m \u001b[38;5;28mid\u001b[39m \u001b[38;5;241m=\u001b[39m row[\u001b[38;5;241m0\u001b[39m]\n\u001b[0;32m      4\u001b[0m description \u001b[38;5;241m=\u001b[39m row[\u001b[38;5;241m1\u001b[39m]\n\u001b[1;32m----> 5\u001b[0m new_desc \u001b[38;5;241m=\u001b[39m \u001b[43mcleaning_noise\u001b[49m\u001b[43m(\u001b[49m\u001b[43mdescription\u001b[49m\u001b[43m)\u001b[49m\n\u001b[0;32m      6\u001b[0m cursor\u001b[38;5;241m.\u001b[39mexecute(\u001b[38;5;124m\"\u001b[39m\u001b[38;5;124mUPDATE reviews SET description = ? WHERE id = ?\u001b[39m\u001b[38;5;124m\"\u001b[39m, (new_desc, \u001b[38;5;28mid\u001b[39m))\n",
      "Cell \u001b[1;32mIn[74], line 3\u001b[0m, in \u001b[0;36mcleaning_noise\u001b[1;34m(description)\u001b[0m\n\u001b[0;32m      1\u001b[0m \u001b[38;5;28;01mdef\u001b[39;00m \u001b[38;5;21mcleaning_noise\u001b[39m(description):\n\u001b[0;32m      2\u001b[0m     \u001b[38;5;66;03m# Clean the text while keeping basic punctuation, @, and $\u001b[39;00m\n\u001b[1;32m----> 3\u001b[0m     clean_noise \u001b[38;5;241m=\u001b[39m \u001b[43mclean\u001b[49m\u001b[43m(\u001b[49m\u001b[43mdescription\u001b[49m\u001b[43m,\u001b[49m\n\u001b[0;32m      4\u001b[0m \u001b[43m                                \u001b[49m\u001b[38;5;66;43;03m#lower=False,            # Keep the original case\u001b[39;49;00m\n\u001b[0;32m      5\u001b[0m \u001b[43m                                \u001b[49m\u001b[38;5;66;43;03m#no_urls=True,           # Remove URLs\u001b[39;49;00m\n\u001b[0;32m      6\u001b[0m \u001b[43m                                \u001b[49m\u001b[43mno_numbers\u001b[49m\u001b[38;5;241;43m=\u001b[39;49m\u001b[38;5;28;43;01mFalse\u001b[39;49;00m\u001b[43m,\u001b[49m\u001b[43m       \u001b[49m\u001b[38;5;66;43;03m# Keep numbers\u001b[39;49;00m\n\u001b[0;32m      7\u001b[0m \u001b[43m                                \u001b[49m\u001b[43mno_digits\u001b[49m\u001b[38;5;241;43m=\u001b[39;49m\u001b[38;5;28;43;01mFalse\u001b[39;49;00m\u001b[43m,\u001b[49m\u001b[43m        \u001b[49m\u001b[38;5;66;43;03m# Keep digits\u001b[39;49;00m\n\u001b[0;32m      8\u001b[0m \u001b[43m                                \u001b[49m\u001b[43mno_punct\u001b[49m\u001b[38;5;241;43m=\u001b[39;49m\u001b[38;5;28;43;01mFalse\u001b[39;49;00m\u001b[43m,\u001b[49m\u001b[43m         \u001b[49m\u001b[38;5;66;43;03m# Keep punctuation\u001b[39;49;00m\n\u001b[0;32m      9\u001b[0m \u001b[43m                                \u001b[49m\u001b[43mno_currency_symbols\u001b[49m\u001b[38;5;241;43m=\u001b[39;49m\u001b[38;5;28;43;01mFalse\u001b[39;49;00m\u001b[43m,\u001b[49m\u001b[43m \u001b[49m\u001b[38;5;66;43;03m#keep currecny symbols\u001b[39;49;00m\n\u001b[0;32m     10\u001b[0m \u001b[43m                                \u001b[49m\u001b[43mreplace_with_punct\u001b[49m\u001b[38;5;241;43m=\u001b[39;49m\u001b[38;5;124;43m\"\u001b[39;49m\u001b[38;5;124;43m\"\u001b[39;49m\u001b[43m,\u001b[49m\u001b[43m  \u001b[49m\u001b[38;5;66;43;03m# Do not replace punctuation\u001b[39;49;00m\n\u001b[0;32m     11\u001b[0m \u001b[43m                                \u001b[49m\u001b[43mreplace_with_url\u001b[49m\u001b[38;5;241;43m=\u001b[39;49m\u001b[38;5;124;43m\"\u001b[39;49m\u001b[38;5;124;43m\"\u001b[39;49m\u001b[43m,\u001b[49m\n\u001b[0;32m     12\u001b[0m \u001b[43m                                \u001b[49m\u001b[43mreplace_with_number\u001b[49m\u001b[38;5;241;43m=\u001b[39;49m\u001b[38;5;124;43m\"\u001b[39;49m\u001b[38;5;124;43m\"\u001b[39;49m\u001b[43m,\u001b[49m\n\u001b[0;32m     13\u001b[0m \u001b[43m                                \u001b[49m\u001b[43mreplace_with_digit\u001b[49m\u001b[38;5;241;43m=\u001b[39;49m\u001b[38;5;124;43m\"\u001b[39;49m\u001b[38;5;124;43m\"\u001b[39;49m\u001b[43m,\u001b[49m\n\u001b[0;32m     14\u001b[0m \u001b[43m                                \u001b[49m\u001b[43mreplace_with_currency_symbol\u001b[49m\u001b[38;5;241;43m=\u001b[39;49m\u001b[38;5;124;43m\"\u001b[39;49m\u001b[38;5;124;43m\"\u001b[39;49m\u001b[43m,\u001b[49m\n\u001b[0;32m     15\u001b[0m \n\u001b[0;32m     16\u001b[0m \u001b[43m                                \u001b[49m\u001b[43madditional_allowed_characters\u001b[49m\u001b[38;5;241;43m=\u001b[39;49m\u001b[38;5;124;43m\"\u001b[39;49m\u001b[38;5;124;43m@$\u001b[39;49m\u001b[38;5;124;43m\"\u001b[39;49m\u001b[43m)\u001b[49m\n\u001b[0;32m     17\u001b[0m     \u001b[38;5;28;01mreturn\u001b[39;00m clean_noise\n",
      "\u001b[1;31mTypeError\u001b[0m: clean() got an unexpected keyword argument 'no_numbers'"
     ]
    }
   ],
   "source": [
    "# Update the desc column by removing emojis\n",
    "for row in rows:\n",
    "    id = row[0]\n",
    "    description = row[1]\n",
    "    new_desc = cleaning_noise(description)\n",
    "    cursor.execute(\"UPDATE reviews SET description = ? WHERE id = ?\", (new_desc, id))"
   ]
  },
  {
   "cell_type": "code",
   "execution_count": 42,
   "metadata": {},
   "outputs": [],
   "source": [
    "# Commit the changes\n",
    "conn.commit()\n"
   ]
  },
  {
   "cell_type": "markdown",
   "metadata": {},
   "source": [
    "## translating non-English text into English"
   ]
  },
  {
   "cell_type": "code",
   "execution_count": 4,
   "metadata": {},
   "outputs": [],
   "source": [
    "from langdetect import detect\n",
    "from googletrans import Translator\n"
   ]
  },
  {
   "cell_type": "code",
   "execution_count": 5,
   "metadata": {},
   "outputs": [],
   "source": [
    "# Function to detect language and translate non-English sentences to English\n",
    "def translate_to_english(text):\n",
    "    try:\n",
    "        lang = detect(text)\n",
    "        if lang == 'en':\n",
    "            return text\n",
    "        else:\n",
    "            translator = Translator()\n",
    "            translation = translator.translate(text, src=lang, dest='en')\n",
    "            return translation.text\n",
    "    except:\n",
    "        return text\n",
    "    "
   ]
  },
  {
   "cell_type": "code",
   "execution_count": 6,
   "metadata": {},
   "outputs": [],
   "source": [
    "# Translate non-English sentences to English and update the 'desc' column\n",
    "for id, description in rows:\n",
    "    translated_desc = translate_to_english(description)\n",
    "    cursor.execute(\"UPDATE reviews SET description = ? WHERE id = ?\", (translated_desc, id))\n",
    "    "
   ]
  },
  {
   "cell_type": "code",
   "execution_count": 4,
   "metadata": {},
   "outputs": [],
   "source": [
    "conn.commit()\n",
    "conn.close()"
   ]
  },
  {
   "cell_type": "code",
   "execution_count": 19,
   "metadata": {},
   "outputs": [
    {
     "name": "stdout",
     "output_type": "stream",
     "text": [
      "Rating Statistics:\n",
      "count    51000.000000\n",
      "mean       400.606588\n",
      "std        681.154800\n",
      "min          0.000000\n",
      "25%         81.000000\n",
      "50%        189.000000\n",
      "75%        431.000000\n",
      "max      24153.000000\n",
      "Name: review_length, dtype: float64\n",
      "\n",
      "Unique Counts for Categorical Columns:\n",
      "product            499\n",
      "subcategory         50\n",
      "title            38168\n",
      "rating               5\n",
      "description      48825\n",
      "Category            10\n",
      "id               51000\n",
      "review_length     2960\n",
      "dtype: int64\n"
     ]
    }
   ],
   "source": [
    "import sqlite3\n",
    "import pandas as pd\n",
    "\n",
    "# Connect to your SQLite database\n",
    "conn = sqlite3.connect(\"C:/Users/Afzal Sufiya/Documents/MasterThesis/AmazonReviews.db\")\n",
    "cursor = conn.cursor()\n",
    "# Execute the query to select 10 random rows\n",
    "cursor.execute('SELECT * FROM reviews')\n",
    "\n",
    "# Fetch the results\n",
    "rows = cursor.fetchall()\n",
    "\n",
    "# Get the column names\n",
    "column_names = [description[0] for description in cursor.description]\n",
    "\n",
    "# Create a DataFrame\n",
    "df = pd.DataFrame(rows, columns=column_names)\n",
    "\n",
    "#creating new feature \"review length\"\n",
    "df['review_length']=df['description'].str.len()\n",
    "\n",
    "# Descriptive statistics for the 'rating' column\n",
    "rating_desc = df['review_length'].describe()\n",
    "# Unique count for categorical columns\n",
    "unique_counts = df.nunique()\n",
    "\n",
    "print(\"Rating Statistics:\")\n",
    "print(rating_desc)\n",
    "print(\"\\nUnique Counts for Categorical Columns:\")\n",
    "print(unique_counts)"
   ]
  }
 ],
 "metadata": {
  "kernelspec": {
   "display_name": "Python 3",
   "language": "python",
   "name": "python3"
  },
  "language_info": {
   "codemirror_mode": {
    "name": "ipython",
    "version": 3
   },
   "file_extension": ".py",
   "mimetype": "text/x-python",
   "name": "python",
   "nbconvert_exporter": "python",
   "pygments_lexer": "ipython3",
   "version": "3.11.7"
  }
 },
 "nbformat": 4,
 "nbformat_minor": 2
}
