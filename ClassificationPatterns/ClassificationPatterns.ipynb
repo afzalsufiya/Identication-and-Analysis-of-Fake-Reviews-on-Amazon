{
 "cells": [
  {
   "cell_type": "code",
   "execution_count": 212,
   "metadata": {},
   "outputs": [],
   "source": [
    "#libraries\n",
    "import pandas as pd\n",
    "import sqlite3\n",
    "import numpy as np\n",
    "from sklearn.linear_model import LogisticRegression\n",
    "from sklearn.ensemble import RandomForestClassifier\n",
    "from xgboost import XGBClassifier\n",
    "from sklearn.ensemble import ExtraTreesClassifier\n",
    "from imblearn.over_sampling import SMOTE\n",
    "from sklearn.metrics import log_loss\n",
    "from sklearn.preprocessing import StandardScaler, OneHotEncoder\n",
    "import matplotlib.pyplot as plt\n",
    "import seaborn as sns\n",
    "import statsmodels.api as sm"
   ]
  },
  {
   "cell_type": "code",
   "execution_count": 180,
   "metadata": {},
   "outputs": [],
   "source": [
    "#connecting sqlite database\n",
    "conn = sqlite3.connect(\"C:/Users/Afzal Sufiya/Documents/MasterThesis/AmazonReviews1.db\")\n",
    "query = \"SELECT * FROM reviews\"\n",
    "data = pd.read_sql_query(query, conn)\n",
    "conn.close()"
   ]
  },
  {
   "cell_type": "code",
   "execution_count": null,
   "metadata": {},
   "outputs": [],
   "source": [
    "#creating new feature \"review length\"\n",
    "data['review_length']=data['description'].str.len()\n",
    "print(data.review_length)"
   ]
  },
  {
   "cell_type": "code",
   "execution_count": null,
   "metadata": {},
   "outputs": [],
   "source": [
    "#SMOTE\n",
    "smote = SMOTE(random_state=42)"
   ]
  },
  {
   "cell_type": "markdown",
   "metadata": {},
   "source": [
    "## Descriptive Analysis "
   ]
  },
  {
   "cell_type": "code",
   "execution_count": null,
   "metadata": {},
   "outputs": [],
   "source": [
    "# Calculating summary statistics\n",
    "da_an=data\n",
    "stats1 = data.groupby('prediction')['review_length'].describe()\n",
    "print(stats1)\n",
    "\n",
    "stats2 = data.groupby('prediction')['rating'].describe()\n",
    "print(stats2)\n"
   ]
  },
  {
   "cell_type": "code",
   "execution_count": null,
   "metadata": {},
   "outputs": [],
   "source": [
    "rat_pred = da_an.groupby(['rating', 'prediction']).size().unstack(fill_value=0)\n",
    "\n",
    "# Plotting\n",
    "fig, ax = plt.subplots()\n",
    "bar_width = 0.35\n",
    "index = rat_pred.index\n",
    "\n",
    "bars_fake = ax.bar(index - bar_width/2, rat_pred[0], bar_width, label='Fake', color='dimgrey', edgecolor='black')\n",
    "bars_real = ax.bar(index + bar_width/2, rat_pred[1], bar_width, label='Real', color='lightgrey', edgecolor='black')\n",
    "\n",
    "# Adding values on top of bars\n",
    "for bar in bars_fake:\n",
    "    height = bar.get_height()\n",
    "    ax.annotate(f'{height}',\n",
    "                xy=(bar.get_x() + bar.get_width() / 2, height),\n",
    "                xytext=(0, 3),  # 3 points vertical offset\n",
    "                textcoords=\"offset points\",\n",
    "                ha='center', va='bottom')\n",
    "\n",
    "for bar in bars_real:\n",
    "    height = bar.get_height()\n",
    "    ax.annotate(f'{height}',\n",
    "                xy=(bar.get_x() + bar.get_width() / 2, height),\n",
    "                xytext=(0, 3),  # 3 points vertical offset\n",
    "                textcoords=\"offset points\",\n",
    "                ha='center', va='bottom')\n",
    "\n",
    "ax.set_xlabel('Star Ratings')\n",
    "ax.set_ylabel('Number of Reviews')\n",
    "ax.set_title('Distribution of Fake and Real Reviews by Star Rating')\n",
    "ax.legend()\n",
    "\n",
    "plt.show()\n"
   ]
  },
  {
   "cell_type": "code",
   "execution_count": null,
   "metadata": {},
   "outputs": [],
   "source": [
    "cat_pred = da_an.groupby(['category', 'prediction']).size().unstack(fill_value=0)\n",
    "\n",
    "# Plotting\n",
    "fig, (ax1, ax2) = plt.subplots(1, 2, figsize=(16, 7))\n",
    "\n",
    "cat_pred[0].plot(kind='pie', ax=ax1, autopct='%1.1f%%', colors=['lightgray'], wedgeprops={'edgecolor': 'black'})\n",
    "ax1.set_title('Fake Reviews by Category')\n",
    "ax1.set_ylabel('')\n",
    "\n",
    "cat_pred[1].plot(kind='pie', ax=ax2, autopct='%1.1f%%', colors=['dimgray'], wedgeprops={'edgecolor': 'black'})\n",
    "ax2.set_title('Real Reviews by Category')\n",
    "ax2.set_ylabel('')\n",
    "\n",
    "plt.show()"
   ]
  },
  {
   "cell_type": "code",
   "execution_count": null,
   "metadata": {},
   "outputs": [],
   "source": [
    "# category, subcategory, and preds plotting\n",
    "\n",
    "fig, axes = plt.subplots(5, 2, figsize=(14, 20), sharey=True)\n",
    "axes = axes.flatten()\n"
   ]
  },
  {
   "cell_type": "markdown",
   "metadata": {},
   "source": [
    "## Feature Analysis"
   ]
  },
  {
   "cell_type": "code",
   "execution_count": null,
   "metadata": {},
   "outputs": [],
   "source": [
    "#function for regression table\n",
    "\n",
    "def RegressionSummary(xs, ys):\n",
    "    \n",
    "    # fitting data into logit function\n",
    "    logit_model = sm.Logit(ys, xs)\n",
    "    result = logit_model.fit()\n",
    "\n",
    "    # summary table\n",
    "    summary_table = result.summary2().tables[1]\n",
    "    summary_table = summary_table.sort_values(by='Coef.', ascending=False)\n",
    "    \n",
    "    return summary_table\n"
   ]
  },
  {
   "cell_type": "code",
   "execution_count": 191,
   "metadata": {},
   "outputs": [],
   "source": [
    "#function to fit the data into models and extract feature importance\n",
    "\n",
    "def FitModels_FeatureImportance(xs, ys, feature_names):\n",
    "\n",
    "    # Initialize classifiers\n",
    "    classifiers = {\n",
    "        'logistic_regression': LogisticRegression(max_iter=10000),\n",
    "        'random_forest': RandomForestClassifier(random_state=42),\n",
    "        'extra_trees': ExtraTreesClassifier(),\n",
    "        'xgboost': XGBClassifier()\n",
    "    }\n",
    "    \n",
    "    # Fit classifiers\n",
    "    for name, clf in classifiers.items():\n",
    "        clf.fit(xs, ys)\n",
    "    \n",
    "    # Calculate feature importances\n",
    "    coefficients = classifiers['logistic_regression'].coef_\n",
    "    fp_lr = np.mean(np.abs(coefficients), axis=0)\n",
    "    \n",
    "    fp_rf = classifiers['random_forest'].feature_importances_\n",
    "    fp_et = classifiers['extra_trees'].feature_importances_\n",
    "    fp_xg = classifiers['xgboost'].feature_importances_\n",
    "    \n",
    "    # Create a DataFrame for feature importances\n",
    "    fp = pd.DataFrame({\n",
    "        'Feature': feature_names,\n",
    "        'LogReg_Importance': fp_lr,\n",
    "        'RandomForest_Importance': fp_rf,\n",
    "        'ExtraTrees_Importance': fp_et,\n",
    "        'XGBoost_Importance': fp_xg\n",
    "    })\n",
    "    \n",
    "    # Calculating average feature importance\n",
    "    fp['Average_Importance'] = fp[['LogReg_Importance', 'RandomForest_Importance', 'ExtraTrees_Importance', 'XGBoost_Importance']].mean(axis=1)\n",
    "    \n",
    "    # Sorting by average importance\n",
    "    fp = fp.sort_values(by='Average_Importance', ascending=False)\n",
    "    \n",
    "    return fp"
   ]
  },
  {
   "cell_type": "markdown",
   "metadata": {},
   "source": [
    "### Individual Features"
   ]
  },
  {
   "cell_type": "markdown",
   "metadata": {},
   "source": [
    "#### \"Category\" feature"
   ]
  },
  {
   "cell_type": "code",
   "execution_count": 4,
   "metadata": {},
   "outputs": [],
   "source": [
    "#preparing dataset for \"Category\" feature\n",
    "data_cat = pd.get_dummies(data, columns=['category'], drop_first=False) # one-hot encoding\n",
    "x_cat = data_cat.drop(columns= ['review_length', 'subcategory', 'rating', 'result', 'product', 'title', 'description', 'id', 'prediction']) #excluding non feature columns\n",
    "y_cat = data_cat['prediction']\n",
    "\n",
    "x_cat = x_cat.astype(np.float64)\n",
    "y_cat = y_cat.astype(np.int64)\n",
    "\n",
    "#implemnetation of SMOTE\n",
    "xs_cat, ys_cat = smote.fit_resample(x_cat, y_cat)\n"
   ]
  },
  {
   "cell_type": "code",
   "execution_count": null,
   "metadata": {},
   "outputs": [],
   "source": [
    "#regression table\n",
    "reg_cat = RegressionSummary(xs_cat, ys_cat)\n",
    "display(reg_cat)"
   ]
  },
  {
   "cell_type": "code",
   "execution_count": null,
   "metadata": {},
   "outputs": [],
   "source": [
    "#extracting feature importance scores\n",
    "fp_cat = FitModels_FeatureImportance(xs_cat, ys_cat, xs_cat.columns.tolist())\n",
    "display(fp_cat)"
   ]
  },
  {
   "cell_type": "code",
   "execution_count": null,
   "metadata": {},
   "outputs": [],
   "source": [
    "#plot\n",
    "plt.figure(figsize=(10, 8))\n",
    "sns.barplot(x='Feature', y='Average_Importance', data=fp_cat, palette='flare')\n",
    "plt.title('Average Feature Importance Across Different Categories')\n",
    "plt.xlabel('Feature')\n",
    "plt.ylabel('Average Importance')\n",
    "plt.xticks(rotation=90)\n",
    "plt.show()"
   ]
  },
  {
   "cell_type": "markdown",
   "metadata": {},
   "source": [
    "#### \"Subcategory\" feature"
   ]
  },
  {
   "cell_type": "code",
   "execution_count": 188,
   "metadata": {},
   "outputs": [],
   "source": [
    "#preparing dataset for \"Subcategory\" feature\n",
    "data_sub = pd.get_dummies(data, columns=['subcategory'], drop_first=False) # one-hot encoding\n",
    "x_sub = data_sub.drop(columns= ['review_length', 'category', 'rating', 'result', 'product', 'title', 'description', 'id', 'prediction']) #excluding non feature columns\n",
    "y_sub = data_sub['prediction']\n",
    "\n",
    "x_sub = x_sub.astype(np.float64)\n",
    "y_sub = y_sub.astype(np.int64)\n",
    "\n",
    "\n",
    "#implemnetation of SMOTE\n",
    "xs_sub, ys_sub = smote.fit_resample(x_sub, y_sub)\n"
   ]
  },
  {
   "cell_type": "code",
   "execution_count": null,
   "metadata": {},
   "outputs": [],
   "source": [
    "#regression table\n",
    "reg_sub = RegressionSummary(xs_sub, ys_sub)\n",
    "display(reg_sub)"
   ]
  },
  {
   "cell_type": "code",
   "execution_count": null,
   "metadata": {},
   "outputs": [],
   "source": [
    "#extracting feature importance scores\n",
    "fp_sub = FitModels_FeatureImportance(xs_sub, ys_sub, xs_sub.columns.tolist())\n",
    "display(fp_sub)"
   ]
  },
  {
   "cell_type": "code",
   "execution_count": null,
   "metadata": {},
   "outputs": [],
   "source": [
    "#plotting\n",
    "\n",
    "plt.figure(figsize=(10, 8))\n",
    "sns.barplot(x='Feature', y='Average_Importance', data=fp_sub, palette='flare')\n",
    "plt.title('Average Feature Importance Across Different Sub-Categories')\n",
    "plt.xlabel('Feature')\n",
    "plt.ylabel('Average Importance')\n",
    "plt.xticks(rotation=90)\n",
    "plt.show()\n"
   ]
  },
  {
   "cell_type": "markdown",
   "metadata": {},
   "source": [
    "### Feature Interactions"
   ]
  },
  {
   "cell_type": "markdown",
   "metadata": {},
   "source": [
    "#### 1. \"review length\" & \"ratings\" feature interaction"
   ]
  },
  {
   "cell_type": "code",
   "execution_count": 194,
   "metadata": {},
   "outputs": [],
   "source": [
    "#preparing dataset for \"Review Length\" & \"Ratings\" feature\n",
    "data_rr=data\n",
    "x_rr = data_rr.drop(columns= ['subcategory', 'category', 'result', 'product', 'title', 'description', 'id', 'prediction']) #excluding non feature columns\n",
    "\n",
    "#scalling the numerical features\n",
    "scaler = StandardScaler()\n",
    "x_rr_scaled = scaler.fit_transform(x_rr)\n"
   ]
  },
  {
   "cell_type": "code",
   "execution_count": 195,
   "metadata": {},
   "outputs": [],
   "source": [
    "#interaction term\n",
    "\n",
    "# Adding interaction term (ratings * review_length)\n",
    "interaction_rr = x_rr_scaled[:, 0] * x_rr_scaled[:, 1]\n",
    "x_rr_interaction_scaled = np.column_stack((x_rr_scaled, interaction_rr))\n",
    "x_rr_interaction_df = pd.DataFrame(x_rr_interaction_scaled, columns=['ratings', 'review_length', 'rating_review_length_interaction'])\n",
    "\n",
    "#adding y \n",
    "y_rr_interaction = data['prediction']\n",
    "\n",
    "#SMOTE\n",
    "xs_rr, ys_rr = smote.fit_resample(x_rr_interaction_df, y_rr_interaction)\n"
   ]
  },
  {
   "cell_type": "code",
   "execution_count": null,
   "metadata": {},
   "outputs": [],
   "source": [
    "#regression table\n",
    "reg_rr = RegressionSummary(xs_rr, ys_rr)\n",
    "display(reg_rr)"
   ]
  },
  {
   "cell_type": "code",
   "execution_count": null,
   "metadata": {},
   "outputs": [],
   "source": [
    "#extracting feature importance scores\n",
    "fp_rr = FitModels_FeatureImportance(xs_rr, ys_rr, xs_rr.columns.tolist())\n",
    "display(fp_rr)"
   ]
  },
  {
   "cell_type": "code",
   "execution_count": null,
   "metadata": {},
   "outputs": [],
   "source": [
    "#plotting\n",
    "\n",
    "plt.figure(figsize=(8, 5))\n",
    "sns.barplot(x='Feature', y='Average_Importance', data=fp_rr, palette='flare', width=0.3)\n",
    "plt.title('Average Feature Importance Across Ratings*Review_Length')\n",
    "plt.xlabel('Feature')\n",
    "plt.ylabel('Average Importance')\n",
    "plt.xticks(rotation=40)\n",
    "plt.show()\n",
    "\n"
   ]
  },
  {
   "cell_type": "markdown",
   "metadata": {},
   "source": [
    "#### 2. \"category\" & \"rating\""
   ]
  },
  {
   "cell_type": "code",
   "execution_count": null,
   "metadata": {},
   "outputs": [],
   "source": [
    "# Original one-hot encoded category features\n",
    "data_cat = pd.get_dummies(data, columns=['category'], drop_first=False)\n",
    "\n",
    "# Extracting the rating feature and the one-hot encoded category features\n",
    "rating = data_cat['rating']\n",
    "categories = data_cat.drop(columns= ['review_length', 'subcategory', 'rating', 'result', 'product', 'title', 'description', 'id', 'prediction', 'rating'])\n",
    "\n",
    "# Manually creating interaction terms: rating * each category\n",
    "interaction_features = pd.DataFrame()\n",
    "\n",
    "for col in categories.columns:\n",
    "    interaction_features[f'rating_{col}'] = rating * categories[col]\n",
    "\n",
    "# Split into features (X) and target (y)\n",
    "X_comb_cr=interaction_features\n",
    "y_comb_cr = data['prediction']\n",
    "\n",
    "print(f\"Original feature count: {categories.shape[1] + 1}\")  # Rating + 10 categories\n",
    "print(f\"Interaction feature count: {interaction_features.shape[1]}\")  # 10 interaction terms\n"
   ]
  },
  {
   "cell_type": "code",
   "execution_count": 201,
   "metadata": {},
   "outputs": [],
   "source": [
    "#scalling the feature dataset\n",
    "scaler = StandardScaler()\n",
    "X_comb_cr_scaled = scaler.fit_transform(X_comb_cr)\n",
    "X_comb_cr_scaled = pd.DataFrame(X_comb_cr_scaled, columns=X_comb_cr.columns)\n",
    "\n",
    "#SMOTE\n",
    "xs_cr, ys_cr = smote.fit_resample(X_comb_cr_scaled, y_comb_cr)\n"
   ]
  },
  {
   "cell_type": "code",
   "execution_count": null,
   "metadata": {},
   "outputs": [],
   "source": [
    "#regression table\n",
    "reg_cr = RegressionSummary(xs_cr, ys_cr)\n",
    "display(reg_cr)"
   ]
  },
  {
   "cell_type": "code",
   "execution_count": null,
   "metadata": {},
   "outputs": [],
   "source": [
    "#extracting feature importance scores\n",
    "fp_cr = FitModels_FeatureImportance(xs_cr, ys_cr, xs_cr.columns.tolist())\n",
    "display(fp_cr)"
   ]
  },
  {
   "cell_type": "code",
   "execution_count": null,
   "metadata": {},
   "outputs": [],
   "source": [
    "#plotting\n",
    "plt.figure(figsize=(10, 8))\n",
    "sns.barplot(x='Feature', y='Average_Importance', data=fp_cr, palette='flare')\n",
    "plt.title('Average Feature Importance Across \"ratings * category\"')\n",
    "plt.xlabel('Feature')\n",
    "plt.ylabel('Average Importance')\n",
    "plt.xticks(rotation=90)\n",
    "plt.show()"
   ]
  },
  {
   "cell_type": "markdown",
   "metadata": {},
   "source": [
    "#### 3.  \"category\" & \"review_length\""
   ]
  },
  {
   "cell_type": "code",
   "execution_count": null,
   "metadata": {},
   "outputs": [],
   "source": [
    "# Original one-hot encoded category features\n",
    "data_cat = pd.get_dummies(data, columns=['category'], drop_first=False)\n",
    "\n",
    "# Extracting the rating feature and the one-hot encoded category features\n",
    "review_length = data_cat['review_length']\n",
    "categories = data_cat.drop(columns= ['review_length', 'subcategory', 'rating', 'result', 'product', 'title', 'description', 'id', 'prediction', 'rating'])\n",
    "\n",
    "# Manually creating interaction terms: rating * each category\n",
    "interaction_features = pd.DataFrame()\n",
    "\n",
    "for col in categories.columns:\n",
    "    interaction_features[f'review_length_{col}'] = review_length * categories[col]\n",
    "\n",
    "# Split into features (X) and target (y)\n",
    "X_comb_crl=interaction_features\n",
    "y_comb_crl = data['prediction']\n",
    "\n",
    "print(f\"Original feature count: {categories.shape[1] + 1}\")  # Rating + 10 categories\n",
    "print(f\"Interaction feature count: {interaction_features.shape[1]}\")  # 10 interaction terms\n"
   ]
  },
  {
   "cell_type": "code",
   "execution_count": 206,
   "metadata": {},
   "outputs": [],
   "source": [
    "#scalling\n",
    "scaler = StandardScaler()\n",
    "X_comb_crl_scaled = scaler.fit_transform(X_comb_crl)\n",
    "X_comb_crl_scaled = pd.DataFrame(X_comb_crl_scaled, columns=X_comb_crl.columns)\n",
    "\n",
    "#SMOTE\n",
    "xs_crl, ys_crl = smote.fit_resample(X_comb_crl_scaled, y_comb_crl)"
   ]
  },
  {
   "cell_type": "code",
   "execution_count": null,
   "metadata": {},
   "outputs": [],
   "source": [
    "#regression table\n",
    "reg_crl = RegressionSummary(xs_crl, ys_crl)\n",
    "display(reg_crl)"
   ]
  },
  {
   "cell_type": "code",
   "execution_count": null,
   "metadata": {},
   "outputs": [],
   "source": [
    "#extracting feature importance scores\n",
    "fp_crl = FitModels_FeatureImportance(xs_crl, ys_crl, xs_crl.columns.tolist())\n",
    "display(fp_crl)"
   ]
  },
  {
   "cell_type": "code",
   "execution_count": 283,
   "metadata": {},
   "outputs": [],
   "source": [
    "#plotting\n",
    "plt.figure(figsize=(10, 8))\n",
    "sns.barplot(x='Feature', y='Average_Importance', data=fp_crl, palette='flare')\n",
    "plt.title('Average Feature Importance Across \"review_length * category\"')\n",
    "plt.xlabel('Feature')\n",
    "plt.ylabel('Average Importance')\n",
    "plt.xticks(rotation=90)\n",
    "plt.show()"
   ]
  },
  {
   "cell_type": "markdown",
   "metadata": {},
   "source": [
    "#### 4. \"subcategory\" & \"rating\""
   ]
  },
  {
   "cell_type": "code",
   "execution_count": null,
   "metadata": {},
   "outputs": [],
   "source": [
    "# Original one-hot encoded category features\n",
    "data_sub = pd.get_dummies(data, columns=['subcategory'], drop_first=False)\n",
    "\n",
    "# Extracting the rating feature and the one-hot encoded category features\n",
    "rating = data_sub['rating']\n",
    "subcategories = data_sub.drop(columns= ['review_length', 'category', 'rating', 'result', 'product', 'title', 'description', 'id', 'prediction', 'rating'])\n",
    "\n",
    "# Manually creating interaction terms: rating * each category\n",
    "interaction_features = pd.DataFrame()\n",
    "\n",
    "for col in subcategories.columns:\n",
    "    interaction_features[f'rating*{col}'] = rating * subcategories[col]\n",
    "\n",
    "X_comb_sr=interaction_features\n",
    "y_comb_sr = data['prediction']\n",
    "\n",
    "print(f\"Original feature count: {subcategories.shape[1] + 1}\")  # Rating + 10 categories\n",
    "print(f\"Interaction feature count: {interaction_features.shape[1]}\")  # 10 interaction terms\n",
    "\n"
   ]
  },
  {
   "cell_type": "code",
   "execution_count": 211,
   "metadata": {},
   "outputs": [],
   "source": [
    "#scalling\n",
    "scaler = StandardScaler()\n",
    "X_comb_sr_scaled = scaler.fit_transform(X_comb_sr)\n",
    "X_comb_sr_scaled = pd.DataFrame(X_comb_sr_scaled, columns=X_comb_sr.columns)\n",
    "\n",
    "#SMOTE\n",
    "xs_sr, ys_sr = smote.fit_resample(X_comb_sr_scaled, y_comb_sr)"
   ]
  },
  {
   "cell_type": "code",
   "execution_count": null,
   "metadata": {},
   "outputs": [],
   "source": [
    "#regression table\n",
    "reg_sr = RegressionSummary(xs_sr, ys_sr)\n",
    "display(reg_sr)"
   ]
  },
  {
   "cell_type": "code",
   "execution_count": null,
   "metadata": {},
   "outputs": [],
   "source": [
    "#extracting feature importance scores\n",
    "fp_sr = FitModels_FeatureImportance(xs_sr, ys_sr, xs_sr.columns.tolist())\n",
    "display(fp_sr)"
   ]
  },
  {
   "cell_type": "code",
   "execution_count": null,
   "metadata": {},
   "outputs": [],
   "source": [
    "#plotting\n",
    "plt.figure(figsize=(10, 8))\n",
    "sns.barplot(x='Feature', y='Average_Importance', data=fp_sr, palette='flare')\n",
    "plt.title('Average Feature Importance Across \"rating * subcategory\"')\n",
    "plt.xlabel('Feature')\n",
    "plt.ylabel('Average Importance')\n",
    "plt.xticks(rotation=90)\n",
    "plt.show()"
   ]
  },
  {
   "cell_type": "markdown",
   "metadata": {},
   "source": [
    "#### 5. \"subcategory\" & \"review_length\" "
   ]
  },
  {
   "cell_type": "code",
   "execution_count": null,
   "metadata": {},
   "outputs": [],
   "source": [
    "# Original one-hot encoded category features\n",
    "data_sub = pd.get_dummies(data, columns=['subcategory'], drop_first=False)\n",
    "\n",
    "# Extracting the rating feature and the one-hot encoded category features\n",
    "review_length = data_sub['review_length']\n",
    "subcategories = data_sub.drop(columns= ['review_length', 'category', 'rating', 'result', 'product', 'title', 'description', 'id', 'prediction', 'rating'])\n",
    "\n",
    "# Manually creating interaction terms: rating * each category\n",
    "interaction_features = pd.DataFrame()\n",
    "\n",
    "for col in subcategories.columns:\n",
    "    interaction_features[f'review_length*{col}'] = review_length * subcategories[col]\n",
    "\n",
    "\n",
    "X_comb_srl=interaction_features\n",
    "y_comb_srl = data['prediction']\n",
    "\n",
    "print(f\"Original feature count: {subcategories.shape[1] + 1}\")  # Rating + 10 categories\n",
    "print(f\"Interaction feature count: {interaction_features.shape[1]}\")  # 10 interaction terms\n"
   ]
  },
  {
   "cell_type": "code",
   "execution_count": null,
   "metadata": {},
   "outputs": [],
   "source": [
    "#scalling\n",
    "scaler = StandardScaler()\n",
    "X_comb_srl_scaled = scaler.fit_transform(X_comb_srl)\n",
    "X_comb_srl_scaled = pd.DataFrame(X_comb_srl_scaled, columns=X_comb_srl.columns)\n",
    "\n",
    "#SMOTE\n",
    "xs_srl, ys_srl = smote.fit_resample(X_comb_srl_scaled, y_comb_srl)\n"
   ]
  },
  {
   "cell_type": "code",
   "execution_count": null,
   "metadata": {},
   "outputs": [],
   "source": [
    "#regression table\n",
    "reg_srl = RegressionSummary(xs_srl, ys_srl)\n",
    "display(reg_srl)"
   ]
  },
  {
   "cell_type": "code",
   "execution_count": null,
   "metadata": {},
   "outputs": [],
   "source": [
    "#extracting feature importance scores\n",
    "fp_srl = FitModels_FeatureImportance(xs_srl, ys_srl, xs_srl.columns.tolist())\n",
    "display(fp_srl)"
   ]
  },
  {
   "cell_type": "code",
   "execution_count": null,
   "metadata": {},
   "outputs": [],
   "source": [
    "#plotting\n",
    "plt.figure(figsize=(10, 8))\n",
    "sns.barplot(x='Feature', y='Average_Importance', data=fp_srl, palette='flare')\n",
    "plt.title('Average Feature Importance Across \"review_length * subcategory\"')\n",
    "plt.xlabel('Feature')\n",
    "plt.ylabel('Average Importance')\n",
    "plt.xticks(rotation=90)\n",
    "plt.show()"
   ]
  },
  {
   "cell_type": "markdown",
   "metadata": {},
   "source": [
    "### All independent variable combined"
   ]
  },
  {
   "cell_type": "code",
   "execution_count": 213,
   "metadata": {},
   "outputs": [],
   "source": [
    "# Separate features and target\n",
    "x_all = data[['rating', 'review_length', 'category']]\n",
    "y_all = data['prediction']"
   ]
  },
  {
   "cell_type": "code",
   "execution_count": null,
   "metadata": {},
   "outputs": [],
   "source": [
    "#encoding categorical features\n",
    "\n",
    "encoder = OneHotEncoder(sparse_output=False)  # drop='first' to avoid multicollinearity\n",
    "encoded_cat = encoder.fit_transform(x_all[['category']])\n",
    "encoded_cat_df = pd.DataFrame(encoded_cat, columns=encoder.get_feature_names_out(['category']))\n",
    "\n",
    "#scalling numerical features\n",
    "numerical_data = x_all[['rating', 'review_length']]\n",
    "scaler = StandardScaler()  # or MinMaxScaler()\n",
    "scaled_numerical_data = scaler.fit_transform(numerical_data)\n",
    "scaled_numerical_data_df = pd.DataFrame(scaled_numerical_data, columns=['rating', 'review_length'])\n",
    "\n",
    "#combining the features\n",
    "x_transformed = pd.concat([encoded_cat_df, scaled_numerical_data_df], axis=1)\n",
    "\n",
    "#SMOTE\n",
    "xs_all, ys_all = smote.fit_resample(x_transformed, y_all)\n"
   ]
  },
  {
   "cell_type": "code",
   "execution_count": null,
   "metadata": {},
   "outputs": [],
   "source": [
    "#regression table\n",
    "reg_all = RegressionSummary(xs_all, ys_all)\n",
    "display(reg_all)"
   ]
  },
  {
   "cell_type": "code",
   "execution_count": null,
   "metadata": {},
   "outputs": [],
   "source": [
    "#extracting feature importance scores\n",
    "fp_all= FitModels_FeatureImportance(xs_all, ys_all, xs_all.columns.tolist())\n",
    "display(fp_all)"
   ]
  },
  {
   "cell_type": "code",
   "execution_count": null,
   "metadata": {},
   "outputs": [],
   "source": [
    "#plotting\n",
    "plt.figure(figsize=(10, 8))\n",
    "sns.barplot(x='Feature', y='Average_Importance', data=fp_all, palette='flare')\n",
    "plt.title('Average Feature Importance Across all independent variables')\n",
    "plt.xlabel('Feature')\n",
    "plt.ylabel('Average Importance')\n",
    "plt.xticks(rotation=90)\n",
    "plt.show()"
   ]
  }
 ],
 "metadata": {
  "kernelspec": {
   "display_name": "Python 3",
   "language": "python",
   "name": "python3"
  },
  "language_info": {
   "codemirror_mode": {
    "name": "ipython",
    "version": 3
   },
   "file_extension": ".py",
   "mimetype": "text/x-python",
   "name": "python",
   "nbconvert_exporter": "python",
   "pygments_lexer": "ipython3",
   "version": "3.11.7"
  }
 },
 "nbformat": 4,
 "nbformat_minor": 2
}
